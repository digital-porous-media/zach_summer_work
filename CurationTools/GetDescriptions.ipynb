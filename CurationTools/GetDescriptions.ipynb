{
 "cells": [
  {
   "cell_type": "markdown",
   "id": "0e3659e6-70e4-41f1-8343-23b3c640416b",
   "metadata": {},
   "source": [
    "### Creates a file containing all descriptions without any other metadata. The example output is provided in the GitHub as OriginalDescriptions.json"
   ]
  },
  {
   "cell_type": "code",
   "execution_count": null,
   "id": "256f49aa-1663-404f-82eb-9771eb6bd10f",
   "metadata": {},
   "outputs": [],
   "source": [
    "# Imports required libraries\n",
    "import os\n",
    "import json"
   ]
  },
  {
   "cell_type": "code",
   "execution_count": null,
   "id": "b2d02703-ed91-496a-b397-85dd18b8abaa",
   "metadata": {},
   "outputs": [],
   "source": [
    "# Retrieves the data description for a provided dataset\n",
    "def get_des(obj):\n",
    "    return obj.get(\"nodes\")[0].get(\"value\").get(\"description\")"
   ]
  },
  {
   "cell_type": "code",
   "execution_count": null,
   "id": "a9136f38-9992-4406-9151-a3a4e4b2319b",
   "metadata": {},
   "outputs": [],
   "source": [
    "# Goes through all metadata files to collect all data descriptions into a single file.\n",
    "metadata_folder_filepath = \"/file/path/here\"\n",
    "\n",
    "directory = os.fsencode(metadata_folder_filepath)\n",
    "\n",
    "descriptions = {}\n",
    "\n",
    "for file in os.listdir(directory):\n",
    "    filename = os.fsdecode(file)\n",
    "    path_name = metadata_folder_filepath+\"/\" + filename\n",
    "    if filename == \".DS_Store\":\n",
    "        pass\n",
    "    else:\n",
    "        with open(path_name, 'r') as openfile:\n",
    "            json_object = json.load(openfile)\n",
    "            des = get_des(json_object)\n",
    "            descriptions[filename]=des\n",
    "\n",
    "with open(\"./original_descriptions.json\",'w') as outputs:\n",
    "    outputs.write(json.dumps(descriptions, indent=4))"
   ]
  }
 ],
 "metadata": {
  "kernelspec": {
   "display_name": "Python 3 (ipykernel)",
   "language": "python",
   "name": "python3"
  },
  "language_info": {
   "codemirror_mode": {
    "name": "ipython",
    "version": 3
   },
   "file_extension": ".py",
   "mimetype": "text/x-python",
   "name": "python",
   "nbconvert_exporter": "python",
   "pygments_lexer": "ipython3",
   "version": "3.13.1"
  }
 },
 "nbformat": 4,
 "nbformat_minor": 5
}
