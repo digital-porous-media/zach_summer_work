{
 "cells": [
  {
   "cell_type": "markdown",
   "id": "c7e17589-2cb3-4da5-a170-0205544f497a",
   "metadata": {},
   "source": [
    "### This notebook gives you a quick way to assess word length for each description in the DPMP as well as generate graphs to display that information."
   ]
  },
  {
   "cell_type": "code",
   "execution_count": null,
   "id": "9ffbec37-a10c-486f-b76b-687009d69e22",
   "metadata": {},
   "outputs": [],
   "source": [
    "# Necessary libraries\n",
    "import os\n",
    "import json\n",
    "import matplotlib.pyplot as plt\n",
    "\n",
    "with open('OriginalDescriptions.json','r') as file:\n",
    "    descriptions = json.load(file)\n"
   ]
  },
  {
   "cell_type": "code",
   "execution_count": null,
   "id": "bfd71b03-6473-4ccf-91e3-459d1672c92f",
   "metadata": {},
   "outputs": [],
   "source": [
    "# Goes through each description and splits it by every space. Counts how many items result and saves two lists, one with information on which dataset it was and one without\n",
    "word_counts = []\n",
    "just_nums = []\n",
    "for desc in descriptions:\n",
    "    words = len(descriptions.get(desc).split())\n",
    "    word_counts.append((desc,words))\n",
    "    just_nums.append(words)"
   ]
  },
  {
   "cell_type": "code",
   "execution_count": null,
   "id": "b56870ae-0a01-4d6e-b028-b066e3fef627",
   "metadata": {},
   "outputs": [],
   "source": [
    "# Gives you the percentage of data descriptions who have a word length within the given range\n",
    "def density_in_range(low_bound, up_bound):\n",
    "    good_range = 0\n",
    "    for count in word_counts:\n",
    "        if count[1] <= up_bound and count[1] >=low_bound:\n",
    "            good_range += 1\n",
    "    good_range=good_range/176\n",
    "    return good_range"
   ]
  },
  {
   "cell_type": "code",
   "execution_count": null,
   "id": "3997f5cb-1f03-445f-8691-0523ba433238",
   "metadata": {},
   "outputs": [],
   "source": [
    "density_in_range(0,100)"
   ]
  },
  {
   "cell_type": "code",
   "execution_count": null,
   "id": "a4a67c52-3eff-4300-9a43-8760c2175b58",
   "metadata": {},
   "outputs": [],
   "source": [
    "# Provies the average word length\n",
    "sum(just_nums)/len(just_nums)"
   ]
  },
  {
   "cell_type": "code",
   "execution_count": null,
   "id": "079d9aaf-3c88-49da-95d2-2488b305949f",
   "metadata": {},
   "outputs": [],
   "source": [
    "# Creates a histogram showing the distribution of word length\n",
    "plt.hist(just_nums, bins=range(0,850,50), color='skyblue', edgecolor='black')\n",
    "plt.xlabel(\"Data Description Word Count\")\n",
    "plt.ylabel(\"Count\")\n",
    "plt.title(\"Approximate Word Count for Data Description in DPMP\")\n",
    "plt.xticks(range(0,800,100))\n",
    "plt.show()"
   ]
  },
  {
   "cell_type": "code",
   "execution_count": null,
   "id": "d93b17e2-ad5c-4f2f-b0fe-ecf9405cc83c",
   "metadata": {},
   "outputs": [],
   "source": [
    "# Again provides a graph of word length, it's just cumulative distribution instead of probability density\n",
    "plt.ecdf(just_nums, label=\"CDF\")\n",
    "plt.title(\"Cumulative Distribution Function\\nof Data Description Word Count\")\n",
    "plt.xlabel(\"Value\")\n",
    "plt.ylabel(\"Cumulative Probability\")\n",
    "plt.grid(True)\n",
    "plt.legend()\n",
    "plt.show()"
   ]
  }
 ],
 "metadata": {
  "kernelspec": {
   "display_name": "Python 3 (ipykernel)",
   "language": "python",
   "name": "python3"
  },
  "language_info": {
   "codemirror_mode": {
    "name": "ipython",
    "version": 3
   },
   "file_extension": ".py",
   "mimetype": "text/x-python",
   "name": "python",
   "nbconvert_exporter": "python",
   "pygments_lexer": "ipython3",
   "version": "3.13.1"
  }
 },
 "nbformat": 4,
 "nbformat_minor": 5
}
