{
 "cells": [
  {
   "cell_type": "markdown",
   "id": "e431bd11-bee5-4faf-ba6e-bf2ff52987cb",
   "metadata": {},
   "source": [
    "### This notebook allows the user to provide a data description, an evaluation given in LlamaReviews, and the guidelines and get back an improved description. It was put on pause because the context window available on SambaNova models dropped and was not improved while I was still working"
   ]
  },
  {
   "cell_type": "code",
   "execution_count": null,
   "id": "ae16dbd3-40e2-4119-90c6-2e14ac3d7e50",
   "metadata": {},
   "outputs": [],
   "source": [
    "# Import necessary libraries\n",
    "import os\n",
    "import openai\n",
    "import json\n",
    "import regex as re\n",
    "import pymupdf4llm\n",
    "import credentials\n",
    "\n",
    "# Open the reviews provided by LlamaReviews\n",
    "with open('ReviewsExample.json','r') as file:\n",
    "    ratings = json.load(file)\n",
    "\n",
    "# Provide your SambaNova credentials\n",
    "SAMBASTUDIO_API_KEY = credentials.CHATBOT_API_KEY\n",
    "SAMBASTUDIO_BASE_URL = credentials.CHATBOT_URL\n",
    "SAMBASTUDIO_MODEL = credentials.CHATBOT_MODEL\n",
    "\n",
    "# Open a client using the credentials\n",
    "client = openai.OpenAI(\n",
    "    api_key=credentials.CHATBOT_API_KEY,\n",
    "    base_url=credentials.CHATBOT_URL,\n",
    ")"
   ]
  },
  {
   "cell_type": "code",
   "execution_count": null,
   "id": "105209af-8a81-43d2-b2f2-26ac216ee264",
   "metadata": {},
   "outputs": [],
   "source": [
    "# System instructions what will guide the LLM in its purpose\n",
    "instructions = \"You are an expert data curator trying to improve descriptions for the datasets in the Digital Porous Media repository. You will be provided a data description, scoring guidelines (each criteria is worth one point), the score of that description, a reviewer's explanation for that grade, and related papers. Your job is to address the criticisms, if possible, based only on the information in the papers.\"\n",
    "\n",
    "# The guidelines developed for the DPMP\n",
    "guidelines='''\n",
    "These are your guidelines to follow:\n",
    "1.\tFocus on describing the dataset so it can be understood independently from related research products such as a published paper. \n",
    "2.\tDescribe the context in which the dataset was created (study goals).\n",
    "3.\tMention the type(s) of porous media being investigated.\n",
    "4.\tAddress the research problem that the data is helping to solve (high level research question).\n",
    "5.\tAddress how (reproducibility, generating new studies, validation, Machine Learning, understanding porous flow, etc.) and who will benefit from reusing the data (geoscientists, water resources managers, petroleum engineers, etc.).\n",
    "6.\tDescribe the methodology for data collection (imaging, experimental, simulation, ML methodology that produced the data.)\n",
    "7.\tProvide an overview of the contents and organization of the dataset (types of files, documentation material, structure of the folder.)\n",
    "8.\tIndicate if the data was quality controlled and how. \n",
    "9.\tKeep descriptions clear and accessible for experts as well as general audiences. Avoid acronyms or spell them out.\n",
    "10.\tInclude keywords that will help others search for the data.\n",
    "'''\n",
    "\n",
    "# Instructions that make sure the LLM knows when the new description begins\n",
    "preface = \"Now, please write a new, imporved description in one cohesive paragraph using the wording of the original where possible\""
   ]
  },
  {
   "cell_type": "code",
   "execution_count": null,
   "id": "207456ea-a306-4e5d-b607-b499e7fea7cb",
   "metadata": {},
   "outputs": [],
   "source": [
    "# Gets the DOIs of all related papers. The DOIs of the portal are not included.\n",
    "def get_dois(DRP):\n",
    "    dois = []\n",
    "    full_filename = '/Users/zacharynowacek/Desktop/Austin/DRP-Metadata/'+DRP\n",
    "    with open(full_filename, 'r') as file:\n",
    "        metadata = json.load(file)\n",
    "    for pub in metadata.get('nodes')[0].get('value').get(\"relatedPublications\"):\n",
    "        try:\n",
    "            doi = re.findall(r'10\\.\\d{4,9}\\/\\S+',pub.get(\"publicationLink\"))[0]\n",
    "            doi = re.sub('/',':',doi)\n",
    "            dois.append(doi)\n",
    "        except:\n",
    "            pass\n",
    "    return dois"
   ]
  },
  {
   "cell_type": "code",
   "execution_count": null,
   "id": "15ce4593-02d4-4e76-b008-33f0c680c1dc",
   "metadata": {},
   "outputs": [],
   "source": [
    "# Example of use\n",
    "get_dois(\"DRP-441.json\")"
   ]
  },
  {
   "cell_type": "code",
   "execution_count": null,
   "id": "82404dad-e729-4b5f-8e9b-75f1ae95ff42",
   "metadata": {},
   "outputs": [],
   "source": [
    "# This function iterates through all the papers, grabs them from the local folder, and turns them into a markdown string using pymupdf4llm\n",
    "papers_file_path = 'putThe/filepath/to/samplePapersDirectory/here'\n",
    "\n",
    "def get_papers(dois):\n",
    "    relevant_papers = \"Here are the papers that you must work from when improving the description:\\n\"\n",
    "    if dois == []:\n",
    "        return \"For this dataset there are no relevant papers. Still attempt to improve the description but only stylistic deficiences as you do not have the relevant materials to address lacking content\"\n",
    "    for doi in enumerate(dois):\n",
    "        name = papers_file_path+dois[doi[0]]+\".pdf\"\n",
    "        doc = f\"Paper {doi[0]+1}\\n {pymupdf4llm.to_markdown(name)}\"\n",
    "        relevant_papers+=doc\n",
    "    return relevant_papers"
   ]
  },
  {
   "cell_type": "code",
   "execution_count": null,
   "id": "f9163bf2-81e7-4c2a-a7b3-532e9c1fe412",
   "metadata": {},
   "outputs": [],
   "source": [
    "# Generates the prompt passed to the LLM\n",
    "def prompt(drp):\n",
    "    prompt = \"\"\n",
    "    desc = \"Here is the data description as originally written:\\n\"+ratings.get(drp).get('orig')+'\\n'\n",
    "    rating = \"\\nHere is the grading of the expert reviewer. Criticisms here should be addressed, if and only if the relevant information is available:\\n\" + ratings.get(drp).get('eval') + '\\n'\n",
    "    papers = '\\n' + get_papers(get_dois(drp))\n",
    "    prompt = desc+guidelines+rating+papers+preface\n",
    "    return prompt"
   ]
  },
  {
   "cell_type": "code",
   "execution_count": null,
   "id": "874a39e4-823b-4b3b-b650-7c7bd9c33934",
   "metadata": {},
   "outputs": [],
   "source": [
    "# Takes all necessary information and generates an improved description using the evaluation, related paperes, and guidelines\n",
    "def improve_desc(drp):\n",
    "    improved_desc = client.chat.completions.create(\n",
    "            model=SAMBASTUDIO_MODEL,\n",
    "            messages=[{\"role\":\"system\",\"content\":instructions},{\"role\":\"user\",\"content\":prompt(drp)}],\n",
    "            temperature =  .1,\n",
    "            top_p = .1\n",
    "        )\n",
    "    return improved_desc.choices[0].message.content"
   ]
  },
  {
   "cell_type": "code",
   "execution_count": null,
   "id": "3ccf09c1-f569-47f4-a2f7-64e1db6d9227",
   "metadata": {},
   "outputs": [],
   "source": [
    "#Example of use\n",
    "print(improve_desc(\"DRP-441.json\"))"
   ]
  },
  {
   "cell_type": "markdown",
   "id": "ecb114cb-3df6-40d7-afac-e2212a108561",
   "metadata": {},
   "source": [
    "### Old Description\n",
    "The effect of pore-scale heterogeneity on non-Darcy flow behaviour is investigated by means of direct flow simulations on 3-D images of Bentheimer sandstone and Estaillades carbonate. The critical Reynolds number indicating the cessation of the creeping Darcy flow regime in Estaillades carbonate is two orders of magnitude smaller than in Bentheimer sandstone, and is three orders of magnitude smaller than in the beadpack.\n",
    "\n",
    "### New Description\n",
    "The effect of pore-scale heterogeneity on non-Darcy flow behavior is investigated through direct flow simulations on 3-D images of Bentheimer sandstone and Estaillades carbonate. The dataset provides critical insights into the cessation of the Darcy flow regime, with the critical Reynolds number for Estaillades carbonate being two orders of magnitude smaller than for Bentheimer sandstone and three orders of magnitude smaller than for a beadpack. This study addresses the research problem of understanding how pore-scale heterogeneity influences the transition from Darcy to non-Darcy flow regimes, offering valuable data for researchers, engineers, and educators interested in porous media, fluid dynamics, and geosciences. The methodology involves X-ray imaging and finite-volume simulations using OpenFOAM to solve the Navier-Stokes equations, ensuring high-resolution voxelized pore spaces. The dataset includes 3-D images, simulation results, and derived parameters such as permeability, tortuosity, and non-Darcy coefficients. Quality control was ensured through grid refinement and comparison with experimental data. This dataset is essential for reproducibility, validation of models, and advancing machine learning applications in porous media research. Keywords: non-Darcy flow, pore-scale heterogeneity, Bentheimer sandstone, Estaillades carbonate, 3-D imaging, direct simulation."
   ]
  }
 ],
 "metadata": {
  "kernelspec": {
   "display_name": "Python 3 (ipykernel)",
   "language": "python",
   "name": "python3"
  },
  "language_info": {
   "codemirror_mode": {
    "name": "ipython",
    "version": 3
   },
   "file_extension": ".py",
   "mimetype": "text/x-python",
   "name": "python",
   "nbconvert_exporter": "python",
   "pygments_lexer": "ipython3",
   "version": "3.13.1"
  }
 },
 "nbformat": 4,
 "nbformat_minor": 5
}
